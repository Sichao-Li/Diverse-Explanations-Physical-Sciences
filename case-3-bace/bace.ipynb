{
 "cells": [
  {
   "cell_type": "markdown",
   "source": [
    "# Load dataset from deepchem\n",
    "### We also provide a downloaded dataset in datasets directory"
   ],
   "metadata": {
    "collapsed": false,
    "pycharm": {
     "name": "#%% md\n"
    }
   }
  },
  {
   "cell_type": "code",
   "execution_count": 13,
   "metadata": {
    "collapsed": false,
    "jupyter": {
     "outputs_hidden": false
    },
    "pycharm": {
     "is_executing": true,
     "name": "#%%\n"
    }
   },
   "outputs": [],
   "source": [
    "import deepchem as dc\n",
    "from sklearn.metrics import accuracy_score, roc_auc_score, matthews_corrcoef, recall_score, precision_score\n",
    "from xgboost import XGBClassifier\n",
    "from sklearn.ensemble import RandomForestClassifier\n",
    "import pandas as pd\n",
    "from sklearn.metrics import confusion_matrix, ConfusionMatrixDisplay\n",
    "import matplotlib.pyplot as plt\n",
    "from rdkit.Chem import Draw\n",
    "from rdkit import Chem\n",
    "from lime import lime_tabular\n",
    "\n",
    "bace_dataset = dc.molnet.load_bace_classification(featurizer='ECFP', seed=0, splitter='random')\n",
    "tasks, dataset, transforms = bace_dataset\n",
    "train, val, test = dataset"
   ]
  },
  {
   "cell_type": "code",
   "execution_count": 14,
   "metadata": {
    "collapsed": false,
    "jupyter": {
     "outputs_hidden": false
    },
    "pycharm": {
     "name": "#%%\n"
    }
   },
   "outputs": [
    {
     "name": "stdout",
     "output_type": "stream",
     "text": [
      "Shape of train data: (1210, 1024)\n",
      "Shape of train labels: (1210, 1)\n"
     ]
    }
   ],
   "source": [
    "train_x, train_y, train_w, train_ids = train.X, train.y, train.w, train.ids\n",
    "val_x, val_y, val_w, val_ids = val.X, val.y, val.w, val.ids\n",
    "test_x, test_y, test_w, test_ids = test.X, test.y, test.w, test.ids\n",
    "print(f\"Shape of train data: {train_x.shape}\")\n",
    "print(f\"Shape of train labels: {train_y.shape}\")"
   ]
  },
  {
   "cell_type": "markdown",
   "source": [
    "## We can easily find sveral ML models with promising results"
   ],
   "metadata": {
    "collapsed": false,
    "pycharm": {
     "name": "#%% md\n"
    }
   }
  },
  {
   "cell_type": "code",
   "execution_count": 15,
   "metadata": {
    "pycharm": {
     "name": "#%%\n"
    }
   },
   "outputs": [
    {
     "name": "stderr",
     "output_type": "stream",
     "text": [
      "/home/sichao/anaconda3/envs/deepchem-test/lib/python3.12/site-packages/sklearn/base.py:1473: DataConversionWarning: A column-vector y was passed when a 1d array was expected. Please change the shape of y to (n_samples,), for example using ravel().\n",
      "  return fit_method(estimator, *args, **kwargs)\n"
     ]
    },
    {
     "name": "stdout",
     "output_type": "stream",
     "text": [
      "Accuracy score: 0.8223684210526315\n",
      "ROC-AUC score: 0.8220779220779221\n",
      "MCC score: 0.8125\n",
      "Recall score: 0.8441558441558441\n"
     ]
    }
   ],
   "source": [
    "rf = RandomForestClassifier(random_state = 42, n_estimators=100)\n",
    "rf.fit(train_x, train_y)\n",
    "pred_rf = rf.predict(test_x)\n",
    "print(f\"Accuracy score: {accuracy_score(test_y, pred_rf)}\")\n",
    "print(f\"ROC-AUC score: {roc_auc_score(test_y, pred_rf)}\")\n",
    "print(f\"MCC score: {precision_score(test_y, pred_rf)}\")\n",
    "print(f\"Recall score: {recall_score(test_y, pred_rf)}\")"
   ]
  },
  {
   "cell_type": "code",
   "execution_count": 16,
   "metadata": {
    "pycharm": {
     "name": "#%%\n"
    }
   },
   "outputs": [
    {
     "name": "stdout",
     "output_type": "stream",
     "text": [
      "Accuracy score: 0.7763157894736842\n",
      "ROC-AUC score: 0.7762770562770563\n",
      "MCC score: 0.7792207792207793\n",
      "Recall score: 0.7792207792207793\n"
     ]
    }
   ],
   "source": [
    "xgb_classifier = XGBClassifier()\n",
    "xgb_classifier.fit(train_x, train_y)\n",
    "pred_xgb = xgb_classifier.predict(test_x)\n",
    "print(f\"Accuracy score: {accuracy_score(test_y, pred_xgb)}\")\n",
    "print(f\"ROC-AUC score: {roc_auc_score(test_y, pred_xgb)}\")\n",
    "print(f\"MCC score: {precision_score(test_y, pred_xgb)}\")\n",
    "print(f\"Recall score: {recall_score(test_y, pred_xgb)}\")"
   ]
  },
  {
   "cell_type": "code",
   "execution_count": 11,
   "metadata": {
    "pycharm": {
     "name": "#%%\n"
    }
   },
   "outputs": [
    {
     "name": "stderr",
     "output_type": "stream",
     "text": [
      "/home/sichao/anaconda3/envs/deepchem-test/lib/python3.12/site-packages/sklearn/utils/validation.py:1310: DataConversionWarning: A column-vector y was passed when a 1d array was expected. Please change the shape of y to (n_samples, ), for example using ravel().\n",
      "  y = column_or_1d(y, warn=True)\n"
     ]
    },
    {
     "name": "stdout",
     "output_type": "stream",
     "text": [
      "Accuracy score: 0.8026315789473685\n",
      "ROC-AUC score: 0.8024242424242425\n",
      "MCC score: 0.7974683544303798\n",
      "Recall score: 0.8181818181818182\n"
     ]
    }
   ],
   "source": [
    "# Train a SVM on the training set and explain the same instance from the testing set\n",
    "from sklearn.svm import SVC\n",
    "svm = SVC(probability=True)\n",
    "svm.fit(train_x, train_y)\n",
    "pred_svm = svm.predict(test_x)\n",
    "print(f\"Accuracy score: {accuracy_score(test_y, pred_svm)}\")\n",
    "print(f\"ROC-AUC score: {roc_auc_score(test_y, pred_svm)}\")\n",
    "print(f\"MCC score: {precision_score(test_y, pred_svm)}\")\n",
    "print(f\"Recall score: {recall_score(test_y, pred_svm)}\")"
   ]
  },
  {
   "cell_type": "code",
   "execution_count": 12,
   "metadata": {
    "pycharm": {
     "name": "#%%\n"
    }
   },
   "outputs": [
    {
     "name": "stderr",
     "output_type": "stream",
     "text": [
      "/home/sichao/anaconda3/envs/deepchem-test/lib/python3.12/site-packages/sklearn/neural_network/_multilayer_perceptron.py:1105: DataConversionWarning: A column-vector y was passed when a 1d array was expected. Please change the shape of y to (n_samples, ), for example using ravel().\n",
      "  y = column_or_1d(y, warn=True)\n"
     ]
    },
    {
     "name": "stdout",
     "output_type": "stream",
     "text": [
      "Accuracy score: 0.7631578947368421\n",
      "ROC-AUC score: 0.7627705627705628\n",
      "MCC score: 0.7530864197530864\n",
      "Recall score: 0.7922077922077922\n"
     ]
    }
   ],
   "source": [
    "# Train a MLP classifier on the training set and explain the same instance from the testing set\n",
    "from sklearn.neural_network import MLPClassifier\n",
    "mlp = MLPClassifier(hidden_layer_sizes=(32,32,32), alpha=0.01, early_stopping=True, max_iter=1000, random_state=42, learning_rate_init=0.0005, solver='adam', learning_rate='constant')\n",
    "mlp.fit(train_x, train_y)\n",
    "pred_mlp = mlp.predict(test_x)\n",
    "print(f\"Accuracy score: {accuracy_score(test_y, pred_mlp)}\")\n",
    "print(f\"ROC-AUC score: {roc_auc_score(test_y, pred_mlp)}\")\n",
    "print(f\"MCC score: {precision_score(test_y, pred_mlp)}\")\n",
    "print(f\"Recall score: {recall_score(test_y, pred_mlp)}\")"
   ]
  },
  {
   "cell_type": "code",
   "execution_count": 42,
   "metadata": {
    "pycharm": {
     "name": "#%%\n"
    }
   },
   "outputs": [],
   "source": [
    "# plot performance of a classifier\n",
    "cm_svm = confusion_matrix(test_y, pred_svm)\n",
    "cm_mlp = confusion_matrix(test_y, pred_mlp)\n",
    "cm_rf = confusion_matrix(test_y, pred_rf)\n",
    "cm_xgb = confusion_matrix(test_y, pred_xgb)"
   ]
  },
  {
   "cell_type": "code",
   "execution_count": 13,
   "metadata": {
    "pycharm": {
     "name": "#%%\n"
    }
   },
   "outputs": [
    {
     "data": {
      "image/png": "[encoded data removed]",
      "text/plain": [
       "<Figure size 640x480 with 2 Axes>"
      ]
     },
     "metadata": {},
     "output_type": "display_data"
    }
   ],
   "source": [
    "plt.rcParams.update({'font.size': 16})\n",
    "disp = ConfusionMatrixDisplay(confusion_matrix=cm_xgb)\n",
    "disp.plot(cmap='Blues')\n",
    "# Plot confusion matrix\n",
    "# plot_confusion_matrix(mlp, X_test, y_test, normalize='pred', cmap='Blues')\n",
    "# plt.xlabel('xlabel', fontsize=18)\n",
    "# plt.ylabel('ylabel', fontsize=16)\n",
    "# plt.savefig('confusion-matrix-xgb.png', bbox_inches='tight', dpi=300)\n",
    "plt.show()"
   ]
  },
  {
   "cell_type": "code",
   "execution_count": 7,
   "metadata": {
    "pycharm": {
     "name": "#%%\n"
    }
   },
   "outputs": [
    {
     "data": {
      "text/plain": [
       "[8, 24, 38, 58, 67, 69, 73, 90, 92, 113, 128, 146, 147]"
      ]
     },
     "execution_count": 7,
     "metadata": {},
     "output_type": "execute_result"
    }
   ],
   "source": [
    "# find conflicts from predictions of two different classifiers\n",
    "conflict_indices = [i for i in range(len(pred_rf)) if pred_rf[i] != pred_xgb[i]]\n",
    "print(conflict_indices)"
   ]
  },
  {
   "cell_type": "markdown",
   "source": [
    "### Plot samples that are misclassified"
   ],
   "metadata": {
    "collapsed": false,
    "pycharm": {
     "name": "#%% md\n"
    }
   }
  },
  {
   "cell_type": "code",
   "execution_count": 44,
   "metadata": {
    "pycharm": {
     "name": "#%%\n"
    }
   },
   "outputs": [
    {
     "name": "stdout",
     "output_type": "stream",
     "text": [
      "S(=O)(=O)(N(c1cc(C(=O)NC(Cc2ccccc2)C(O)C[NH2+]Cc2cc(ccc2)C(F)(F)F)c(cc1)C)c1ccccc1)C Fc1cc(cc(F)c1)CC(NC(=O)C)C(O)C[NH2+]C1(CC\\C(=N\\O)\\CC1)c1cc(ccc1)C(C)(C)C\n"
     ]
    }
   ],
   "source": [
    "c1 = test.ids[8]\n",
    "c2 = test.ids[24]\n",
    "print(c1, c2)"
   ]
  },
  {
   "cell_type": "code",
   "execution_count": 45,
   "metadata": {
    "collapsed": false,
    "jupyter": {
     "outputs_hidden": false
    },
    "pycharm": {
     "name": "#%%\n"
    }
   },
   "outputs": [
    {
     "data": {
      "image/jpeg": "[encoded data removed]",
      "image/png": "[encoded data removed]",
      "text/plain": [
       "<PIL.PngImagePlugin.PngImageFile image mode=RGB size=300x300>"
      ]
     },
     "execution_count": 45,
     "metadata": {},
     "output_type": "execute_result"
    }
   ],
   "source": [
    "s1 = Chem.MolFromSmiles(c1)\n",
    "Draw.MolToImage(s1)"
   ]
  },
  {
   "cell_type": "code",
   "execution_count": 46,
   "metadata": {
    "collapsed": false,
    "jupyter": {
     "outputs_hidden": false
    },
    "pycharm": {
     "name": "#%%\n"
    }
   },
   "outputs": [
    {
     "data": {
      "image/jpeg": "[encoded data removed]",
      "image/png": "[encoded data removed]",
      "text/plain": [
       "<PIL.PngImagePlugin.PngImageFile image mode=RGB size=300x300>"
      ]
     },
     "execution_count": 46,
     "metadata": {},
     "output_type": "execute_result"
    }
   ],
   "source": [
    "s2 = Chem.MolFromSmiles(c2)\n",
    "Draw.MolToImage(s2)"
   ]
  },
  {
   "cell_type": "markdown",
   "source": [
    "### Explain such examples with LIME"
   ],
   "metadata": {
    "collapsed": false,
    "pycharm": {
     "name": "#%% md\n"
    }
   }
  },
  {
   "cell_type": "code",
   "execution_count": 47,
   "metadata": {
    "collapsed": false,
    "jupyter": {
     "outputs_hidden": false
    },
    "pycharm": {
     "name": "#%%\n"
    }
   },
   "outputs": [],
   "source": [
    "feature_names = [\"fp_%s\"  % x for x in range(1024)]\n",
    "explainer = lime_tabular.LimeTabularExplainer(train_x, \n",
    "                                              feature_names=feature_names, \n",
    "                                              categorical_features=feature_names,\n",
    "                                              class_names=['inactive', 'active'], \n",
    "                                              discretize_continuous=True)"
   ]
  },
  {
   "cell_type": "code",
   "execution_count": 48,
   "metadata": {
    "collapsed": false,
    "jupyter": {
     "outputs_hidden": false
    },
    "pycharm": {
     "name": "#%%\n"
    }
   },
   "outputs": [],
   "source": [
    "exp_rf = explainer.explain_instance(test_x[8], rf.predict_proba, num_features=100, top_labels=1)\n",
    "exp_svm = explainer.explain_instance(test_x[8], svm.predict_proba, num_features=100, top_labels=1)\n",
    "exp_mlp = explainer.explain_instance(test_x[8], mlp.predict_proba, num_features=100, top_labels=1)\n",
    "exp_xgb = explainer.explain_instance(test_x[8], xgb_classifier.predict_proba, num_features=100, top_labels=1)"
   ]
  },
  {
   "cell_type": "code",
   "execution_count": 49,
   "metadata": {
    "collapsed": false,
    "jupyter": {
     "outputs_hidden": false
    },
    "pycharm": {
     "name": "#%%\n"
    }
   },
   "outputs": [],
   "source": [
    "def fp_mol(mol, fp_length=1024):\n",
    "    \"\"\"\n",
    "    returns: dict of <int:list of string>\n",
    "        dictionary mapping fingerprint index\n",
    "        to list of SMILES strings that activated that fingerprint\n",
    "    \"\"\"\n",
    "    d = {}\n",
    "    feat = dc.feat.CircularFingerprint(sparse=True, smiles=True, size=1024)\n",
    "    retval = feat._featurize(mol)\n",
    "    for k, v in retval.items():\n",
    "        index = k % fp_length\n",
    "        if index not in d:\n",
    "            d[index] = set()\n",
    "        d[index].add(v['smiles'])\n",
    "    return d\n",
    "\n",
    "# What fragments activated what fingerprints in our active molecule?\n",
    "my_fragments = fp_mol(Chem.MolFromSmiles(test.ids[26]))"
   ]
  },
  {
   "cell_type": "markdown",
   "source": [
    "### Different fragments are activated"
   ],
   "metadata": {
    "collapsed": false,
    "pycharm": {
     "name": "#%% md\n"
    }
   }
  },
  {
   "cell_type": "code",
   "execution_count": 50,
   "metadata": {
    "collapsed": false,
    "jupyter": {
     "outputs_hidden": false
    },
    "pycharm": {
     "name": "#%%\n"
    }
   },
   "outputs": [
    {
     "data": {
      "text/html": [
       "<div>\n",
       "<style scoped>\n",
       "    .dataframe tbody tr th:only-of-type {\n",
       "        vertical-align: middle;\n",
       "    }\n",
       "\n",
       "    .dataframe tbody tr th {\n",
       "        vertical-align: top;\n",
       "    }\n",
       "\n",
       "    .dataframe thead th {\n",
       "        text-align: right;\n",
       "    }\n",
       "</style>\n",
       "<table border=\"1\" class=\"dataframe\">\n",
       "  <thead>\n",
       "    <tr style=\"text-align: right;\">\n",
       "      <th></th>\n",
       "      <th>feature</th>\n",
       "      <th>importance</th>\n",
       "    </tr>\n",
       "  </thead>\n",
       "  <tbody>\n",
       "    <tr>\n",
       "      <th>0</th>\n",
       "      <td>cc(c)C(CC)[NH2+]C</td>\n",
       "      <td>-0.045933</td>\n",
       "    </tr>\n",
       "    <tr>\n",
       "      <th>1</th>\n",
       "      <td>cCC</td>\n",
       "      <td>0.029256</td>\n",
       "    </tr>\n",
       "    <tr>\n",
       "      <th>2</th>\n",
       "      <td>cncc(c)C</td>\n",
       "      <td>-0.036467</td>\n",
       "    </tr>\n",
       "    <tr>\n",
       "      <th>3</th>\n",
       "      <td></td>\n",
       "      <td>0.043802</td>\n",
       "    </tr>\n",
       "    <tr>\n",
       "      <th>4</th>\n",
       "      <td>cc(C)cc(c)F</td>\n",
       "      <td>-0.028113</td>\n",
       "    </tr>\n",
       "    <tr>\n",
       "      <th>5</th>\n",
       "      <td>CO</td>\n",
       "      <td>0.022332</td>\n",
       "    </tr>\n",
       "    <tr>\n",
       "      <th>6</th>\n",
       "      <td>cc(c)F</td>\n",
       "      <td>-0.034217</td>\n",
       "    </tr>\n",
       "    <tr>\n",
       "      <th>7</th>\n",
       "      <td>ccnc(c)O</td>\n",
       "      <td>-0.027360</td>\n",
       "    </tr>\n",
       "    <tr>\n",
       "      <th>8</th>\n",
       "      <td></td>\n",
       "      <td>0.029964</td>\n",
       "    </tr>\n",
       "    <tr>\n",
       "      <th>9</th>\n",
       "      <td>cc(n)OC(C)(C)C</td>\n",
       "      <td>0.035723</td>\n",
       "    </tr>\n",
       "    <tr>\n",
       "      <th>10</th>\n",
       "      <td>cccc(c)C</td>\n",
       "      <td>0.030386</td>\n",
       "    </tr>\n",
       "    <tr>\n",
       "      <th>11</th>\n",
       "      <td>ccc(cn)CC</td>\n",
       "      <td>-0.034669</td>\n",
       "    </tr>\n",
       "    <tr>\n",
       "      <th>12</th>\n",
       "      <td>CCC1(Oc)CCC1</td>\n",
       "      <td>-0.028043</td>\n",
       "    </tr>\n",
       "    <tr>\n",
       "      <th>13</th>\n",
       "      <td>cc(C)cc(c)C</td>\n",
       "      <td>-0.036498</td>\n",
       "    </tr>\n",
       "    <tr>\n",
       "      <th>14</th>\n",
       "      <td>CC1(O)CCC1</td>\n",
       "      <td>-0.046926</td>\n",
       "    </tr>\n",
       "    <tr>\n",
       "      <th>15</th>\n",
       "      <td>cc(c)C</td>\n",
       "      <td>-0.026519</td>\n",
       "    </tr>\n",
       "    <tr>\n",
       "      <th>16</th>\n",
       "      <td>cF</td>\n",
       "      <td>-0.050660</td>\n",
       "    </tr>\n",
       "    <tr>\n",
       "      <th>17</th>\n",
       "      <td>ccn</td>\n",
       "      <td>-0.044137</td>\n",
       "    </tr>\n",
       "    <tr>\n",
       "      <th>18</th>\n",
       "      <td>CC(c)[NH2+]</td>\n",
       "      <td>-0.024644</td>\n",
       "    </tr>\n",
       "  </tbody>\n",
       "</table>\n",
       "</div>"
      ],
      "text/plain": [
       "              feature  importance\n",
       "0   cc(c)C(CC)[NH2+]C   -0.045933\n",
       "1                 cCC    0.029256\n",
       "2            cncc(c)C   -0.036467\n",
       "3                        0.043802\n",
       "4         cc(C)cc(c)F   -0.028113\n",
       "5                  CO    0.022332\n",
       "6              cc(c)F   -0.034217\n",
       "7            ccnc(c)O   -0.027360\n",
       "8                        0.029964\n",
       "9      cc(n)OC(C)(C)C    0.035723\n",
       "10           cccc(c)C    0.030386\n",
       "11          ccc(cn)CC   -0.034669\n",
       "12       CCC1(Oc)CCC1   -0.028043\n",
       "13        cc(C)cc(c)C   -0.036498\n",
       "14         CC1(O)CCC1   -0.046926\n",
       "15             cc(c)C   -0.026519\n",
       "16                 cF   -0.050660\n",
       "17                ccn   -0.044137\n",
       "18        CC(c)[NH2+]   -0.024644"
      ]
     },
     "execution_count": 50,
     "metadata": {},
     "output_type": "execute_result"
    }
   ],
   "source": [
    "fragment_weight = dict(exp_svm.as_map()[1])\n",
    "df_svm = [{'feature': list(my_fragments[i])[0], 'importance': fragment_weight[i]} for i in (my_fragments) if i in fragment_weight]\n",
    "df_svm = pd.DataFrame(df_svm)\n",
    "df_svm"
   ]
  },
  {
   "cell_type": "code",
   "execution_count": 51,
   "metadata": {
    "collapsed": false,
    "jupyter": {
     "outputs_hidden": false
    },
    "pycharm": {
     "name": "#%%\n"
    }
   },
   "outputs": [
    {
     "data": {
      "text/html": [
       "<div>\n",
       "<style scoped>\n",
       "    .dataframe tbody tr th:only-of-type {\n",
       "        vertical-align: middle;\n",
       "    }\n",
       "\n",
       "    .dataframe tbody tr th {\n",
       "        vertical-align: top;\n",
       "    }\n",
       "\n",
       "    .dataframe thead th {\n",
       "        text-align: right;\n",
       "    }\n",
       "</style>\n",
       "<table border=\"1\" class=\"dataframe\">\n",
       "  <thead>\n",
       "    <tr style=\"text-align: right;\">\n",
       "      <th></th>\n",
       "      <th>feature</th>\n",
       "      <th>importance</th>\n",
       "    </tr>\n",
       "  </thead>\n",
       "  <tbody>\n",
       "    <tr>\n",
       "      <th>0</th>\n",
       "      <td>ccc(c(c)F)C(F)(F)F</td>\n",
       "      <td>-0.084240</td>\n",
       "    </tr>\n",
       "    <tr>\n",
       "      <th>1</th>\n",
       "      <td>ccc(cn)CC</td>\n",
       "      <td>-0.079296</td>\n",
       "    </tr>\n",
       "    <tr>\n",
       "      <th>2</th>\n",
       "      <td>cc(C)cc(c)C</td>\n",
       "      <td>-0.143349</td>\n",
       "    </tr>\n",
       "    <tr>\n",
       "      <th>3</th>\n",
       "      <td>ccn</td>\n",
       "      <td>-0.094899</td>\n",
       "    </tr>\n",
       "    <tr>\n",
       "      <th>4</th>\n",
       "      <td>ccc(c(n)O)C(C)[NH2+]</td>\n",
       "      <td>0.070182</td>\n",
       "    </tr>\n",
       "  </tbody>\n",
       "</table>\n",
       "</div>"
      ],
      "text/plain": [
       "                feature  importance\n",
       "0    ccc(c(c)F)C(F)(F)F   -0.084240\n",
       "1             ccc(cn)CC   -0.079296\n",
       "2           cc(C)cc(c)C   -0.143349\n",
       "3                   ccn   -0.094899\n",
       "4  ccc(c(n)O)C(C)[NH2+]    0.070182"
      ]
     },
     "execution_count": 51,
     "metadata": {},
     "output_type": "execute_result"
    }
   ],
   "source": [
    "fragment_weight = dict(exp_mlp.as_map()[1])\n",
    "df_mlp = [{'feature': list(my_fragments[i])[0], 'importance': fragment_weight[i]} for i in (my_fragments) if i in fragment_weight]\n",
    "df_mlp = pd.DataFrame(df_mlp)\n",
    "df_mlp"
   ]
  },
  {
   "cell_type": "code",
   "execution_count": 52,
   "metadata": {
    "collapsed": false,
    "jupyter": {
     "outputs_hidden": false
    },
    "pycharm": {
     "name": "#%%\n"
    }
   },
   "outputs": [
    {
     "data": {
      "text/html": [
       "<div>\n",
       "<style scoped>\n",
       "    .dataframe tbody tr th:only-of-type {\n",
       "        vertical-align: middle;\n",
       "    }\n",
       "\n",
       "    .dataframe tbody tr th {\n",
       "        vertical-align: top;\n",
       "    }\n",
       "\n",
       "    .dataframe thead th {\n",
       "        text-align: right;\n",
       "    }\n",
       "</style>\n",
       "<table border=\"1\" class=\"dataframe\">\n",
       "  <thead>\n",
       "    <tr style=\"text-align: right;\">\n",
       "      <th></th>\n",
       "      <th>feature</th>\n",
       "      <th>importance</th>\n",
       "    </tr>\n",
       "  </thead>\n",
       "  <tbody>\n",
       "    <tr>\n",
       "      <th>0</th>\n",
       "      <td>cncc(c)C</td>\n",
       "      <td>-0.082364</td>\n",
       "    </tr>\n",
       "    <tr>\n",
       "      <th>1</th>\n",
       "      <td>cc(c)C(F)(F)F</td>\n",
       "      <td>0.033611</td>\n",
       "    </tr>\n",
       "    <tr>\n",
       "      <th>2</th>\n",
       "      <td></td>\n",
       "      <td>0.017663</td>\n",
       "    </tr>\n",
       "    <tr>\n",
       "      <th>3</th>\n",
       "      <td>CC[NH2+]C(C)c</td>\n",
       "      <td>-0.020550</td>\n",
       "    </tr>\n",
       "    <tr>\n",
       "      <th>4</th>\n",
       "      <td>ccc(c(c)F)C(F)(F)F</td>\n",
       "      <td>-0.016611</td>\n",
       "    </tr>\n",
       "    <tr>\n",
       "      <th>5</th>\n",
       "      <td>CC1(O)CCC1</td>\n",
       "      <td>-0.024278</td>\n",
       "    </tr>\n",
       "    <tr>\n",
       "      <th>6</th>\n",
       "      <td>cc(c)C</td>\n",
       "      <td>-0.023311</td>\n",
       "    </tr>\n",
       "    <tr>\n",
       "      <th>7</th>\n",
       "      <td>ccn</td>\n",
       "      <td>-0.020338</td>\n",
       "    </tr>\n",
       "  </tbody>\n",
       "</table>\n",
       "</div>"
      ],
      "text/plain": [
       "              feature  importance\n",
       "0            cncc(c)C   -0.082364\n",
       "1       cc(c)C(F)(F)F    0.033611\n",
       "2                        0.017663\n",
       "3       CC[NH2+]C(C)c   -0.020550\n",
       "4  ccc(c(c)F)C(F)(F)F   -0.016611\n",
       "5          CC1(O)CCC1   -0.024278\n",
       "6              cc(c)C   -0.023311\n",
       "7                 ccn   -0.020338"
      ]
     },
     "execution_count": 52,
     "metadata": {},
     "output_type": "execute_result"
    }
   ],
   "source": [
    "fragment_weight = dict(exp_rf.as_map()[1])\n",
    "df_rf = [{'feature': list(my_fragments[i])[0], 'importance': fragment_weight[i]} for i in (my_fragments) if i in fragment_weight]\n",
    "df_rf = pd.DataFrame(df_rf)\n",
    "df_rf"
   ]
  },
  {
   "cell_type": "code",
   "execution_count": 53,
   "metadata": {
    "collapsed": false,
    "jupyter": {
     "outputs_hidden": false
    },
    "pycharm": {
     "name": "#%%\n"
    }
   },
   "outputs": [
    {
     "data": {
      "text/html": [
       "<div>\n",
       "<style scoped>\n",
       "    .dataframe tbody tr th:only-of-type {\n",
       "        vertical-align: middle;\n",
       "    }\n",
       "\n",
       "    .dataframe tbody tr th {\n",
       "        vertical-align: top;\n",
       "    }\n",
       "\n",
       "    .dataframe thead th {\n",
       "        text-align: right;\n",
       "    }\n",
       "</style>\n",
       "<table border=\"1\" class=\"dataframe\">\n",
       "  <thead>\n",
       "    <tr style=\"text-align: right;\">\n",
       "      <th></th>\n",
       "      <th>feature</th>\n",
       "      <th>importance</th>\n",
       "    </tr>\n",
       "  </thead>\n",
       "  <tbody>\n",
       "    <tr>\n",
       "      <th>0</th>\n",
       "      <td>CC(=O)NC(C)C</td>\n",
       "      <td>-0.056220</td>\n",
       "    </tr>\n",
       "    <tr>\n",
       "      <th>1</th>\n",
       "      <td></td>\n",
       "      <td>-0.049617</td>\n",
       "    </tr>\n",
       "    <tr>\n",
       "      <th>2</th>\n",
       "      <td>ccc(c(c)F)C(F)(F)F</td>\n",
       "      <td>0.054024</td>\n",
       "    </tr>\n",
       "    <tr>\n",
       "      <th>3</th>\n",
       "      <td>ccc(cn)CC</td>\n",
       "      <td>0.103587</td>\n",
       "    </tr>\n",
       "    <tr>\n",
       "      <th>4</th>\n",
       "      <td>cc(C)cc(c)C</td>\n",
       "      <td>0.216936</td>\n",
       "    </tr>\n",
       "    <tr>\n",
       "      <th>5</th>\n",
       "      <td>CC1(O)CCC1</td>\n",
       "      <td>0.080263</td>\n",
       "    </tr>\n",
       "    <tr>\n",
       "      <th>6</th>\n",
       "      <td>CNC(C)=O</td>\n",
       "      <td>0.089026</td>\n",
       "    </tr>\n",
       "    <tr>\n",
       "      <th>7</th>\n",
       "      <td>cCC(C)(C)C</td>\n",
       "      <td>0.052141</td>\n",
       "    </tr>\n",
       "    <tr>\n",
       "      <th>8</th>\n",
       "      <td>ccn</td>\n",
       "      <td>0.091947</td>\n",
       "    </tr>\n",
       "  </tbody>\n",
       "</table>\n",
       "</div>"
      ],
      "text/plain": [
       "              feature  importance\n",
       "0        CC(=O)NC(C)C   -0.056220\n",
       "1                       -0.049617\n",
       "2  ccc(c(c)F)C(F)(F)F    0.054024\n",
       "3           ccc(cn)CC    0.103587\n",
       "4         cc(C)cc(c)C    0.216936\n",
       "5          CC1(O)CCC1    0.080263\n",
       "6            CNC(C)=O    0.089026\n",
       "7          cCC(C)(C)C    0.052141\n",
       "8                 ccn    0.091947"
      ]
     },
     "execution_count": 53,
     "metadata": {},
     "output_type": "execute_result"
    }
   ],
   "source": [
    "fragment_weight = dict(exp_xgb.as_map()[0])\n",
    "df_xgb = [{'feature': list(my_fragments[i])[0], 'importance': fragment_weight[i]} for i in (my_fragments) if i in fragment_weight]\n",
    "df_xgb = pd.DataFrame(df_xgb)\n",
    "df_xgb"
   ]
  },
  {
   "cell_type": "code",
   "execution_count": 66,
   "metadata": {
    "collapsed": false,
    "jupyter": {
     "outputs_hidden": false
    },
    "pycharm": {
     "name": "#%%\n"
    }
   },
   "outputs": [],
   "source": [
    "def bar_plot(feature_importance_df, name=None):\n",
    "    feature_importance_df = feature_importance_df.iloc[::-1]\n",
    "\n",
    "    fig, ax = plt.subplots(figsize=(5, 5))\n",
    "\n",
    "    # Create a list of colors where positive importances are blue and negative importances are red\n",
    "    colors = ['#ff0d57' if importance >= 0 else '#00AEEF' for importance in feature_importance_df['importance']]\n",
    "\n",
    "    # Create a horizontal bar chart\n",
    "    print(feature_importance_df['feature'].values)\n",
    "    bars = ax.bar(feature_importance_df['feature'].values,  feature_importance_df['importance'].values, color=colors)\n",
    "    ax.set_facecolor('white')\n",
    "\n",
    "    # ax.set_xticks([])\n",
    "\n",
    "    # Add a vertical line at x=0\n",
    "    # ax.axvline(0, color='#4E4E50', linewidth=2)\n",
    "    # ax.tick_params(axis='y', labelsize=12)  \n",
    "    # # Add the values at the end of the bars\n",
    "    # for bar in bars:\n",
    "    #     width = bar.get_width()\n",
    "    #     print(width)\n",
    "    #     label_y_pos = bar.get_y() + bar.get_height() / 2\n",
    "    #     if width < 0:  # if the value is negative\n",
    "    #         ax.text(0, label_y_pos, s=f'{width:.2f}', va='center', ha='right', fontsize=8)\n",
    "    #     else:  # if the value is positive\n",
    "    #         ax.text(0.01, label_y_pos, s=f'{width:.2f}', va='center', ha='left', fontsize=8)\n",
    "    plt.savefig(name, bbox_inches='tight', dpi=300)\n",
    "    # Show the plot\n",
    "    plt.show()"
   ]
  },
  {
   "cell_type": "markdown",
   "source": [
    "### We can plot and save such plots"
   ],
   "metadata": {
    "collapsed": false,
    "pycharm": {
     "name": "#%% md\n"
    }
   }
  },
  {
   "cell_type": "code",
   "execution_count": 67,
   "metadata": {
    "collapsed": false,
    "jupyter": {
     "outputs_hidden": false
    },
    "pycharm": {
     "name": "#%%\n"
    }
   },
   "outputs": [
    {
     "name": "stdout",
     "output_type": "stream",
     "text": [
      "['ccn' 'cCC(C)(C)C' 'CNC(C)=O' 'CC1(O)CCC1' 'cc(C)cc(c)C' 'ccc(cn)CC'\n",
      " 'ccc(c(c)F)C(F)(F)F' '' 'CC(=O)NC(C)C']\n"
     ]
    },
    {
     "data": {
      "image/png": "[encoded data removed]",
      "text/plain": [
       "<Figure size 500x500 with 1 Axes>"
      ]
     },
     "metadata": {},
     "output_type": "display_data"
    }
   ],
   "source": [
    "bar_plot(df_xgb, 's1-8-xgblatest.png')"
   ]
  }
 ],
 "metadata": {
  "kernelspec": {
   "display_name": "Python [conda env:deepchem-test] *",
   "language": "python",
   "name": "conda-env-deepchem-test-py"
  },
  "language_info": {
   "codemirror_mode": {
    "name": "ipython",
    "version": 3
   },
   "file_extension": ".py",
   "mimetype": "text/x-python",
   "name": "python",
   "nbconvert_exporter": "python",
   "pygments_lexer": "ipython3",
   "version": "3.12.4"
  }
 },
 "nbformat": 4,
 "nbformat_minor": 4
}